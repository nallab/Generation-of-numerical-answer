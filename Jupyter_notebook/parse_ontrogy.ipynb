{
 "cells": [
  {
   "cell_type": "code",
   "execution_count": 16,
   "metadata": {},
   "outputs": [],
   "source": [
    "import xml.etree.ElementTree as ET\n",
    "import MeCab\n",
    "\n",
    "tree = ET.parse('../data3/琉球大学オントロジー.xml')\n",
    "root = tree.getroot() #タグと属性の情報を持つ"
   ]
  },
  {
   "cell_type": "code",
   "execution_count": 17,
   "metadata": {},
   "outputs": [],
   "source": [
    "label_role={}\n",
    "def down_node(node, indent=0, label = 0):\n",
    "    #print(\"{}{} {}\".format('    ' * indent, node.tag, node.attrib))\n",
    "    for child in node:\n",
    "        if child.tag == 'LABEL':\n",
    "            label = child.text\n",
    "            print(\"LABEL:{}\".format(child.text))\n",
    "        if child.tag == 'SLOT':\n",
    "            print(\"{}Role:{}  num:{}  value:{} constraint{}\".format('    ', child.attrib[\"role\"], child.attrib[\"num\"], child.attrib[\"value\"], child.attrib[\"class_constraint\"]))\n",
    "            role = {'role': child.attrib[\"role\"], 'num': child.attrib[\"num\"], 'value': child.attrib[\"value\"], 'constraint': child.attrib[\"class_constraint\"]}\n",
    "            label_role.setdefault(label, []).append(role)\n",
    "        down_node(child, indent + 1, label)"
   ]
  },
  {
   "cell_type": "code",
   "execution_count": 18,
   "metadata": {},
   "outputs": [
    {
     "name": "stdout",
     "output_type": "stream",
     "text": [
      "LABEL:琉球大学\n",
      "LABEL:大学院\n",
      "    Role:年数  num:1  value:2 constraintAny\n",
      "LABEL:学費\n",
      "    Role:授業料  num:  value: constraint年間\n",
      "    Role:入学料  num:1  value: constraintAny\n",
      "    Role:検定料  num:1  value: constraintAny\n",
      "LABEL:年間\n",
      "    Role:前期  num:1  value: constraintAny\n",
      "    Role:後期  num:1  value: constraintAny\n",
      "LABEL:Any\n",
      "LABEL:学部\n",
      "    Role:年数  num:1  value:4 constraintAny\n"
     ]
    }
   ],
   "source": [
    "down_node(root)"
   ]
  },
  {
   "cell_type": "code",
   "execution_count": 26,
   "metadata": {},
   "outputs": [],
   "source": [
    "search_queri = '琉球大学 4年間 学費'\n",
    "search_sentence = '琉球大学の4年間の学費はいくらか'\n",
    "search_school_fees = [{\"授業料\":{\"年額\":535800,\"前期\": 267900, \"後期\": 267900}},{\"入学料\":282000},{\"検定料\":17000}]"
   ]
  },
  {
   "cell_type": "code",
   "execution_count": 27,
   "metadata": {},
   "outputs": [
    {
     "data": {
      "text/plain": [
       "'琉球大学の4年間の学費はいくらか'"
      ]
     },
     "execution_count": 27,
     "metadata": {},
     "output_type": "execute_result"
    }
   ],
   "source": [
    "search_sentence"
   ]
  },
  {
   "cell_type": "code",
   "execution_count": 28,
   "metadata": {},
   "outputs": [
    {
     "name": "stdout",
     "output_type": "stream",
     "text": [
      "{'大学院': [{'role': '年数', 'num': '1', 'value': '2', 'constraint': 'Any'}], '学費': [{'role': '授業料', 'num': '', 'value': {'年額': 535800, '前期': 267900, '後期': 267900}, 'constraint': '年間'}, {'role': '入学料', 'num': '1', 'value': 282000, 'constraint': 'Any'}, {'role': '検定料', 'num': '1', 'value': 17000, 'constraint': 'Any'}], '年間': [{'role': '前期', 'num': '1', 'value': '', 'constraint': 'Any'}, {'role': '後期', 'num': '1', 'value': '', 'constraint': 'Any'}], '学部': [{'role': '年数', 'num': '1', 'value': '4', 'constraint': 'Any'}]}\n"
     ]
    }
   ],
   "source": [
    "for key in label_role:\n",
    "    for index,label in enumerate(label_role[key]):\n",
    "        for fees in search_school_fees:\n",
    "            fee = [fee for fee in fees]\n",
    "            if label['role'] in fee:\n",
    "                label['value'] = fees[fee[0]]\n",
    "print(label_role)"
   ]
  },
  {
   "cell_type": "code",
   "execution_count": 35,
   "metadata": {},
   "outputs": [
    {
     "data": {
      "text/plain": [
       "{'年間': '4'}"
      ]
     },
     "execution_count": 35,
     "metadata": {},
     "output_type": "execute_result"
    }
   ],
   "source": [
    "import re\n",
    "mecab = MeCab.Tagger()\n",
    "search_mecab = mecab.parse(search_sentence)\n",
    "lines = search_mecab.split('\\n')\n",
    "items = (re.split('[\\t,]', line) for line in lines)\n",
    "num_dic = {}\n",
    "for count,item in enumerate(items):\n",
    "    if item[0] not in ('EOS', '', 't', 'ー') and item[2] == '数':\n",
    "        num_dic[next(items)[0]] = item[0]\n",
    "num_dic"
   ]
  },
  {
   "cell_type": "code",
   "execution_count": 30,
   "metadata": {
    "scrolled": false
   },
   "outputs": [
    {
     "data": {
      "text/plain": [
       "{'大学院': [{'role': '年数', 'num': '1', 'value': '2', 'constraint': 'Any'}],\n",
       " '学費': [{'role': '授業料',\n",
       "   'num': '',\n",
       "   'value': {'年額': 535800, '前期': 267900, '後期': 267900},\n",
       "   'constraint': '年間'},\n",
       "  {'role': '入学料', 'num': '1', 'value': 282000, 'constraint': 'Any'},\n",
       "  {'role': '検定料', 'num': '1', 'value': 17000, 'constraint': 'Any'}],\n",
       " '年間': [{'role': '前期', 'num': '1', 'value': '', 'constraint': 'Any'},\n",
       "  {'role': '後期', 'num': '1', 'value': '', 'constraint': 'Any'}],\n",
       " '学部': [{'role': '年数', 'num': '1', 'value': '4', 'constraint': 'Any'}]}"
      ]
     },
     "execution_count": 30,
     "metadata": {},
     "output_type": "execute_result"
    }
   ],
   "source": [
    "label_role"
   ]
  },
  {
   "cell_type": "code",
   "execution_count": 31,
   "metadata": {},
   "outputs": [
    {
     "data": {
      "text/plain": [
       "['琉球大学', 'の', '4', '年間', 'の', '学費', 'は', 'いくら', 'か', '\\n']"
      ]
     },
     "execution_count": 31,
     "metadata": {},
     "output_type": "execute_result"
    }
   ],
   "source": [
    "wakati = MeCab.Tagger(\"-Owakati\")\n",
    "search_wakati = wakati.parse(search_sentence) #琉球大学 の 4 年間 の 授業 料 は いくら か \n",
    "queris = search_wakati.split(\" \")\n",
    "queris"
   ]
  },
  {
   "cell_type": "code",
   "execution_count": 32,
   "metadata": {
    "scrolled": true
   },
   "outputs": [
    {
     "name": "stdout",
     "output_type": "stream",
     "text": [
      "2442200\n"
     ]
    }
   ],
   "source": [
    "answer = 0\n",
    "ontrogy_queris = []\n",
    "dic = {}\n",
    "nonum = 0\n",
    "for queri in queris:\n",
    "    ontrogy_queri = queri\n",
    "    if queri in label_role: # オントロジー要素の中にクエリがあるか？\n",
    "        role = []\n",
    "        for label in label_role[queri]:\n",
    "            if label['value'] and label['num']:\n",
    "                answer += int(label['value']) * int(label['num'])\n",
    "            elif label['value'] and not label['num']: #変数的に値が増加する数値情報を持つ\n",
    "                if label['constraint'] in label_role: #変化する参照の値があるなら\n",
    "                    for cons in label_role[label['constraint']]:\n",
    "                        nonum += label['value'][cons['role']]\n",
    "                if label['constraint'] in num_dic:\n",
    "                    answer += int(nonum) * int(num_dic[label['constraint']])\n",
    "            #else:\n",
    "            #    role.append(label['role'])\n",
    "        #dic[queri] = role\n",
    "        #ontrogy_queris.append(dic)\n",
    "    #else:\n",
    "        #ontrogy_queris.append(ontrogy_queri)\n",
    "print(answer)"
   ]
  },
  {
   "cell_type": "code",
   "execution_count": 33,
   "metadata": {},
   "outputs": [
    {
     "data": {
      "text/plain": [
       "'琉球大学の4年間の学費はいくらか'"
      ]
     },
     "execution_count": 33,
     "metadata": {},
     "output_type": "execute_result"
    }
   ],
   "source": [
    "search_sentence"
   ]
  },
  {
   "cell_type": "code",
   "execution_count": 34,
   "metadata": {},
   "outputs": [
    {
     "data": {
      "text/plain": [
       "2442200"
      ]
     },
     "execution_count": 34,
     "metadata": {},
     "output_type": "execute_result"
    }
   ],
   "source": [
    "answer"
   ]
  },
  {
   "cell_type": "code",
   "execution_count": null,
   "metadata": {},
   "outputs": [],
   "source": []
  }
 ],
 "metadata": {
  "kernelspec": {
   "display_name": "Python 3",
   "language": "python",
   "name": "python3"
  },
  "language_info": {
   "codemirror_mode": {
    "name": "ipython",
    "version": 3
   },
   "file_extension": ".py",
   "mimetype": "text/x-python",
   "name": "python",
   "nbconvert_exporter": "python",
   "pygments_lexer": "ipython3",
   "version": "3.7.4"
  }
 },
 "nbformat": 4,
 "nbformat_minor": 2
}